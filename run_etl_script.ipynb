{
 "cells": [
  {
   "cell_type": "markdown",
   "metadata": {
    "editable": true
   },
   "source": [
    "### >Reset database before running ETL script\n",
    "\n",
    "Remember to run **create_tables.py** in order to reset them before running the ETL."
   ]
  },
  {
   "cell_type": "code",
   "execution_count": 2,
   "metadata": {
    "editable": true
   },
   "outputs": [],
   "source": [
    "%run create_tables.py"
   ]
  },
  {
   "cell_type": "markdown",
   "metadata": {
    "editable": true
   },
   "source": [
    "### >Run ETL\n",
    "ETL is run in order to read, process, transform and store data into tables."
   ]
  },
  {
   "cell_type": "code",
   "execution_count": 2,
   "metadata": {
    "editable": true
   },
   "outputs": [
    {
     "name": "stdout",
     "output_type": "stream",
     "text": [
      "73 files found in data/song_data\n",
      "1/73 files processed.\n",
      "2/73 files processed.\n",
      "3/73 files processed.\n",
      "4/73 files processed.\n",
      "5/73 files processed.\n",
      "6/73 files processed.\n",
      "7/73 files processed.\n",
      "8/73 files processed.\n",
      "9/73 files processed.\n",
      "10/73 files processed.\n",
      "11/73 files processed.\n",
      "12/73 files processed.\n",
      "13/73 files processed.\n",
      "14/73 files processed.\n",
      "15/73 files processed.\n",
      "16/73 files processed.\n",
      "17/73 files processed.\n",
      "18/73 files processed.\n",
      "19/73 files processed.\n",
      "20/73 files processed.\n",
      "21/73 files processed.\n",
      "22/73 files processed.\n",
      "23/73 files processed.\n",
      "24/73 files processed.\n",
      "25/73 files processed.\n",
      "26/73 files processed.\n",
      "27/73 files processed.\n",
      "28/73 files processed.\n",
      "29/73 files processed.\n",
      "30/73 files processed.\n",
      "31/73 files processed.\n",
      "32/73 files processed.\n",
      "33/73 files processed.\n",
      "34/73 files processed.\n",
      "35/73 files processed.\n",
      "36/73 files processed.\n",
      "37/73 files processed.\n",
      "38/73 files processed.\n",
      "39/73 files processed.\n",
      "40/73 files processed.\n",
      "41/73 files processed.\n",
      "42/73 files processed.\n",
      "43/73 files processed.\n",
      "44/73 files processed.\n",
      "45/73 files processed.\n",
      "46/73 files processed.\n",
      "47/73 files processed.\n",
      "48/73 files processed.\n",
      "49/73 files processed.\n",
      "50/73 files processed.\n",
      "51/73 files processed.\n",
      "52/73 files processed.\n",
      "53/73 files processed.\n",
      "54/73 files processed.\n",
      "55/73 files processed.\n",
      "56/73 files processed.\n",
      "57/73 files processed.\n",
      "58/73 files processed.\n",
      "59/73 files processed.\n",
      "60/73 files processed.\n",
      "61/73 files processed.\n",
      "62/73 files processed.\n",
      "63/73 files processed.\n",
      "64/73 files processed.\n",
      "65/73 files processed.\n",
      "66/73 files processed.\n",
      "67/73 files processed.\n",
      "68/73 files processed.\n",
      "69/73 files processed.\n",
      "70/73 files processed.\n",
      "71/73 files processed.\n",
      "72/73 files processed.\n",
      "73/73 files processed.\n",
      "34 files found in data/log_data\n",
      "1/34 files processed.\n",
      "2/34 files processed.\n",
      "3/34 files processed.\n",
      "4/34 files processed.\n",
      "5/34 files processed.\n",
      "6/34 files processed.\n",
      "7/34 files processed.\n",
      "8/34 files processed.\n",
      "9/34 files processed.\n",
      "10/34 files processed.\n",
      "11/34 files processed.\n",
      "12/34 files processed.\n",
      "13/34 files processed.\n",
      "14/34 files processed.\n",
      "15/34 files processed.\n",
      "16/34 files processed.\n",
      "17/34 files processed.\n",
      "18/34 files processed.\n",
      "19/34 files processed.\n",
      "20/34 files processed.\n",
      "21/34 files processed.\n",
      "22/34 files processed.\n",
      "23/34 files processed.\n",
      "24/34 files processed.\n",
      "25/34 files processed.\n",
      "26/34 files processed.\n",
      "27/34 files processed.\n",
      "28/34 files processed.\n",
      "29/34 files processed.\n",
      "30/34 files processed.\n",
      "31/34 files processed.\n",
      "32/34 files processed.\n",
      "33/34 files processed.\n",
      "34/34 files processed.\n"
     ]
    }
   ],
   "source": [
    "%run etl.py"
   ]
  },
  {
   "cell_type": "code",
   "execution_count": 9,
   "metadata": {
    "editable": true
   },
   "outputs": [],
   "source": [
    "\n"
   ]
  },
  {
   "cell_type": "code",
   "execution_count": null,
   "metadata": {
    "editable": true
   },
   "outputs": [],
   "source": []
  },
  {
   "cell_type": "code",
   "execution_count": null,
   "metadata": {
    "editable": true
   },
   "outputs": [],
   "source": []
  }
 ],
 "metadata": {
  "kernelspec": {
   "display_name": "Python 3",
   "language": "python",
   "name": "python3"
  },
  "language_info": {
   "codemirror_mode": {
    "name": "ipython",
    "version": 3
   },
   "file_extension": ".py",
   "mimetype": "text/x-python",
   "name": "python",
   "nbconvert_exporter": "python",
   "pygments_lexer": "ipython3",
   "version": "3.6.3"
  }
 },
 "nbformat": 4,
 "nbformat_minor": 4
}
